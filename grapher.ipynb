{
 "cells": [
  {
   "cell_type": "code",
   "execution_count": 4,
   "id": "ee6cbbe7",
   "metadata": {},
   "outputs": [
    {
     "name": "stdout",
     "output_type": "stream",
     "text": [
      "Warning: When  cdn_resources is 'local' jupyter notebook has issues displaying graphics on chrome/safari. Use cdn_resources='in_line' or cdn_resources='remote' if you have issues viewing graphics in a notebook.\n",
      "knowledge_graph.html\n"
     ]
    },
    {
     "data": {
      "text/html": [
       "\n",
       "        <iframe\n",
       "            width=\"100%\"\n",
       "            height=\"100vh\"\n",
       "            src=\"knowledge_graph.html\"\n",
       "            frameborder=\"0\"\n",
       "            allowfullscreen\n",
       "            \n",
       "        ></iframe>\n",
       "        "
      ],
      "text/plain": [
       "<IPython.lib.display.IFrame at 0x1123754c0>"
      ]
     },
     "execution_count": 4,
     "metadata": {},
     "output_type": "execute_result"
    }
   ],
   "source": [
    "import pipmaster as pm\n",
    "\n",
    "if not pm.is_installed(\"pyvis\"):\n",
    "    pm.install(\"pyvis\")\n",
    "if not pm.is_installed(\"networkx\"):\n",
    "    pm.install(\"networkx\")\n",
    "\n",
    "import networkx as nx\n",
    "from pyvis.network import Network\n",
    "import random\n",
    "\n",
    "# Load the GraphML file\n",
    "G = nx.read_graphml(\"./financial_rag/knowledge_base/graph_chunk_entity_relation.graphml\")\n",
    "\n",
    "# Create a Pyvis network\n",
    "net = Network(height=\"100vh\", notebook=True)\n",
    "\n",
    "# Convert NetworkX graph to Pyvis network\n",
    "net.from_nx(G)\n",
    "\n",
    "\n",
    "# Add colors and title to nodes\n",
    "for node in net.nodes:\n",
    "    node[\"color\"] = \"#{:06x}\".format(random.randint(0, 0xFFFFFF))\n",
    "    if \"description\" in node:\n",
    "        node[\"title\"] = node[\"description\"]\n",
    "\n",
    "# Add title to edges\n",
    "for edge in net.edges:\n",
    "    if \"description\" in edge:\n",
    "        edge[\"title\"] = edge[\"description\"]\n",
    "\n",
    "# Save and display the network\n",
    "net.show(\"knowledge_graph.html\")"
   ]
  }
 ],
 "metadata": {
  "kernelspec": {
   "display_name": "rag",
   "language": "python",
   "name": "python3"
  },
  "language_info": {
   "codemirror_mode": {
    "name": "ipython",
    "version": 3
   },
   "file_extension": ".py",
   "mimetype": "text/x-python",
   "name": "python",
   "nbconvert_exporter": "python",
   "pygments_lexer": "ipython3",
   "version": "3.12.11"
  }
 },
 "nbformat": 4,
 "nbformat_minor": 5
}
